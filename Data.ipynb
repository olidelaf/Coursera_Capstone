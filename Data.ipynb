{
 "cells": [
  {
   "cell_type": "markdown",
   "metadata": {},
   "source": [
    "In order to solve this business problem I will be combining Foursquare data with Zoopla's api. Zoopla is a UK based propery data company that has a variety of information regarding property valuation prices. COnveniently, it can interact with Foursquare because it has corresponding longitude and latitude information. More importantly, it contains information regarding rent prices and house prices which we can graphically visualise using Python's libraries like folium. \n",
    "\n",
    "Firstly, I will be using Foursquare's api in order to pull information like venues from the website. With this information I will use machine learning algorithms to cluster cities/ neighbourhoods based on similarity in terms of venues. This will create a map that distguishes areas that are similar. \n",
    "\n",
    "Secondly, I wil combine this information with the prices I can extract from the Zoopla api. Similarly, I can colour code the prices into ranges and overlay the above visual with this price data. This way users will be able to see similar areas and compare the prices.\n",
    "\n"
   ]
  }
 ],
 "metadata": {
  "kernelspec": {
   "display_name": "Python 3",
   "language": "python",
   "name": "python3"
  },
  "language_info": {
   "codemirror_mode": {
    "name": "ipython",
    "version": 3
   },
   "file_extension": ".py",
   "mimetype": "text/x-python",
   "name": "python",
   "nbconvert_exporter": "python",
   "pygments_lexer": "ipython3",
   "version": "3.7.2"
  }
 },
 "nbformat": 4,
 "nbformat_minor": 2
}
