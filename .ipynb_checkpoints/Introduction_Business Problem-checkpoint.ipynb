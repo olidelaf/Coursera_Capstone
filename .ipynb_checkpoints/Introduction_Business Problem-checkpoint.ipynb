{
 "cells": [
  {
   "cell_type": "markdown",
   "metadata": {},
   "source": [
    "# Instructions:\n",
    "A description of the problem and a discussion of the background. (15 marks)\n",
    "\n",
    "## Business Problem Instructions\n",
    "Clearly define a problem or an idea of your choice, where you would need to leverage the Foursquare location data to solve or execute. Remember that data science problems always target an audience and are meant to help a group of stakeholders solve a problem, so make sure that you explicitly describe your audience and why they would care about your problem.\n",
    "\n",
    "This submission will eventually become your Introduction/Business Problem section in your final report. So I recommend that you push the report (having your Introduction/Business Problem section only for now) to your Github repository and submit a link to it.\n",
    "\n",
    "## Data Required\n",
    "\n",
    "Describe the data that you will be using to solve the problem or execute your idea. Remember that you will need to use the Foursquare location data to solve the problem or execute your idea. You can absolutely use other datasets in combination with the Foursquare location data. So make sure that you provide adequate explanation and discussion, with examples, of the data that you will be using, even if it is only Foursquare location data.\n",
    "\n",
    "This submission will eventually become your Data section in your final report. So I recommend that you push the report (having your Data section) to your Github repository and submit a link to it."
   ]
  },
  {
   "cell_type": "markdown",
   "metadata": {},
   "source": [
    "# Business Problem"
   ]
  },
  {
   "cell_type": "markdown",
   "metadata": {},
   "source": [
    "Over the last decade we have seen many advances and one developing trend is flexi-working, also known as working from home. It has been reported, by the Office of National Statistics, that between 2012 and 2016 flexi-working has grown by 12.4%. With 4.2 million people reportedly working from home in 2015 this is a growing trend. As more and more of the labour force are expected to work at home, one outcome we may experience is individuals moving further away from major cities. Commuting will be less of a factor whereas local amenities and convenience will be growing factors. \n",
    "\n",
    "As such, the business problem I aim to solve is to identify areas that are similar in terms of surrounding venues and prices. I expect users of the app to be potential movers who can compare similar areas and property developers who can also identify areas they wish to invest in given geographical information and potential rents.\n",
    "\n",
    "Potential movers will find the app valuable because they can compare areas' similarity, simultaneously can gauge an idea of price at an aggregate level. This will act as a first screen when choosing locations to find properties in, as opposed to randomly searching areas. It should help simplify the search process by visualising venues and prices in one geographical map.\n",
    "\n",
    "Secondly, property developers can make use of the app by comparing areas they have previously done well in with other potential areas to invest in. For investors, return on investment (ROI) is an important metric and by understanding the relationship or impact venues have on price can help maximise their ROI. For the investors' use, I may have to implement a regression to help visualise the correlation with venues to prices. This information would also benefit them when trying to identify undervalued areas. \n",
    "\n",
    "\n",
    "\n"
   ]
  },
  {
   "cell_type": "markdown",
   "metadata": {},
   "source": [
    "# Data Required and how it will solve the problem"
   ]
  },
  {
   "cell_type": "markdown",
   "metadata": {},
   "source": [
    "In order to solve this business problem I will be combining Foursquare data with Zoopla's api. Zoopla is a UK based propery data company that has a variety of information regarding property valuation prices. COnveniently, it can interact with Foursquare because it has corresponding longitude and latitude information. More importantly, it contains information regarding rent prices and house prices which we can graphically visualise using Python's libraries like folium. \n",
    "\n",
    "Firstly, I will be using Foursquare's api in order to pull information like venues from the website. With this information I will use machine learning algorithms to cluster cities/ neighbourhoods based on similarity in terms of venues. This will create a map that distguishes areas that are similar. \n",
    "\n",
    "Secondly, I wil combine this information with the prices I can extract from the Zoopla api. Similarly, I can colour code the prices into ranges and overlay the above visual with this price data. This way users will be able to see similar areas and compare the prices.\n",
    "\n"
   ]
  },
  {
   "cell_type": "code",
   "execution_count": null,
   "metadata": {},
   "outputs": [],
   "source": []
  }
 ],
 "metadata": {
  "kernelspec": {
   "display_name": "Python 3",
   "language": "python",
   "name": "python3"
  },
  "language_info": {
   "codemirror_mode": {
    "name": "ipython",
    "version": 3
   },
   "file_extension": ".py",
   "mimetype": "text/x-python",
   "name": "python",
   "nbconvert_exporter": "python",
   "pygments_lexer": "ipython3",
   "version": "3.7.2"
  }
 },
 "nbformat": 4,
 "nbformat_minor": 2
}
