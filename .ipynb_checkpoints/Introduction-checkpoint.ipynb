{
 "cells": [
  {
   "cell_type": "markdown",
   "metadata": {},
   "source": [
    "Over the last decade we have seen many advances and one developing trend is flexi-working, also known as working from home. It has been reported, by the Office of National Statistics, that between 2012 and 2016 flexi-working has grown by 12.4%. With 4.2 million people reportedly working from home in 2015 this is a growing trend. As more and more of the labour force are expected to work at home, one outcome we may experience is individuals moving further away from major cities. Commuting will be less of a factor whereas local amenities and convenience will be growing factors. \n",
    "\n",
    "As such, the business problem I aim to solve is to identify areas that are similar in terms of surrounding venues and prices. I expect users of the app to be potential movers who can compare similar areas and property developers who can also identify areas they wish to invest in given geographical information and potential rents.\n",
    "\n",
    "Potential movers will find the app valuable because they can compare areas' similarity, simultaneously can gauge an idea of price at an aggregate level. This will act as a first screen when choosing locations to find properties in, as opposed to randomly searching areas. It should help simplify the search process by visualising venues and prices in one geographical map.\n",
    "\n",
    "Secondly, property developers can make use of the app by comparing areas they have previously done well in with other potential areas to invest in. For investors, return on investment (ROI) is an important metric and by understanding the relationship or impact venues have on price can help maximise their ROI. For the investors' use, I may have to implement a regression to help visualise the correlation with venues to prices. This information would also benefit them when trying to identify undervalued areas. \n",
    "\n",
    "\n",
    "\n"
   ]
  },
  {
   "cell_type": "code",
   "execution_count": null,
   "metadata": {},
   "outputs": [],
   "source": []
  }
 ],
 "metadata": {
  "kernelspec": {
   "display_name": "Python 3",
   "language": "python",
   "name": "python3"
  },
  "language_info": {
   "codemirror_mode": {
    "name": "ipython",
    "version": 3
   },
   "file_extension": ".py",
   "mimetype": "text/x-python",
   "name": "python",
   "nbconvert_exporter": "python",
   "pygments_lexer": "ipython3",
   "version": "3.7.2"
  }
 },
 "nbformat": 4,
 "nbformat_minor": 2
}
